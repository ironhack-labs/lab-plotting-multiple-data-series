{
 "cells": [
  {
   "cell_type": "markdown",
   "metadata": {},
   "source": [
    "# Plotting Multiple Data Series\n",
    "\n",
    "Complete the following set of exercises to solidify your knowledge of plotting multiple data series with pandas, matplotlib, and seaborn. Part of the challenge that comes with plotting multiple data series is transforming the data into the form needed to visualize it like you want. For some of the exercises in this lab, you will need to transform the data into the form most appropriate for generating the visualization and then create the plot."
   ]
  },
  {
   "cell_type": "code",
   "execution_count": null,
   "metadata": {},
   "outputs": [],
   "source": [
    "import pandas as pd\n",
    "import matplotlib.pyplot as plt\n",
    "import seaborn as sns\n",
    "import warnings\n",
    "\n",
    "warnings.filterwarnings('ignore')\n",
    "%matplotlib inline"
   ]
  },
  {
   "cell_type": "code",
   "execution_count": null,
   "metadata": {},
   "outputs": [],
   "source": [
    "data = pd.read_csv('../data/liquor_store_sales.csv')\n",
    "data.head()"
   ]
  },
  {
   "cell_type": "markdown",
   "metadata": {},
   "source": [
    "## 1. Create a bar chart with bars for total Retail Sales, Retail Transfers, and Warehouse Sales by Item Type."
   ]
  },
  {
   "cell_type": "code",
   "execution_count": null,
   "metadata": {},
   "outputs": [],
   "source": [
    "data.groupby(['ItemType'])[[\"RetailSales\", \"RetailTransfers\", \"WarehouseSales\"]].sum().plot(kind=\"bar\")\n",
    "\n",
    "# Adding a title to the bar chart\n",
    "plt.title('Total Sales Types by Item Types')\n",
    "\n",
    "# Labeling the y-axis\n",
    "plt.ylabel('Total Sum')\n",
    "\n",
    "# Displaying the bar chart\n",
    "plt.show()"
   ]
  },
  {
   "cell_type": "markdown",
   "metadata": {},
   "source": [
    "## 2. Create a horizontal bar chart showing sales mix for the top 10 suppliers with the most total sales. "
   ]
  },
  {
   "cell_type": "code",
   "execution_count": null,
   "metadata": {},
   "outputs": [],
   "source": [
    "import matplotlib.pyplot as plt\n",
    "\n",
    "data['TotalSales'] = (\n",
    "    data[\"RetailSales\"]\n",
    "  + data[\"RetailTransfers\"]\n",
    "  + data[\"WarehouseSales\"]\n",
    ")\n",
    "\n",
    "sales_suppliers = data.groupby('Supplier')['TotalSales'].sum()\n",
    "\n",
    "top_10 = sales_suppliers.sort_values(ascending=False).head(10)\n",
    "\n",
    "plt.figure(figsize=(12, 6))\n",
    "top_10.plot(kind='bar')\n",
    "\n",
    "plt.title('Sales Mix of Top 10 Suppliers By Total Sales')\n",
    "plt.xlabel('Supplier')\n",
    "plt.ylabel('Total Sales')\n",
    "plt.xticks(rotation=45, ha='right')\n",
    "\n",
    "plt.tight_layout()\n",
    "plt.show()\n"
   ]
  },
  {
   "cell_type": "markdown",
   "metadata": {},
   "source": [
    "## 3. Create a multi-line chart that shows average Retail Sales, Retail Transfers, and Warehouse Sales per month over time."
   ]
  },
  {
   "cell_type": "code",
   "execution_count": null,
   "metadata": {},
   "outputs": [],
   "source": [
    "sales_grouped_month = data.groupby('Month')[[\"RetailSales\", \"RetailTransfers\", \"WarehouseSales\"]].mean()\n",
    "sales_grouped_month\n",
    "\n",
    "fig, ax = plt.subplots(figsize=(12, 6))\n",
    "\n",
    "# Mehrere Linien malen – pandas plot shortcut verwendet matplotlib intern\n",
    "sales_grouped_month.plot(ax=ax)\n",
    "\n",
    "# Titel und Achsenbeschriftungen\n",
    "ax.set_title('Average Sales Numbers per Month Over Years')\n",
    "ax.set_xlabel('Month')\n",
    "ax.set_ylabel('Average Sales')\n",
    "\n",
    "# X-Achse: Monat als Ganzzahl, optional als Text (Jan, Feb, ...)\n",
    "ax.set_xticks(range(1, 13))\n",
    "# Wenn du eine Spalte MonthText hast, kannst du stattdessen so rotieren:\n",
    "# ax.set_xticklabels(data['MonthText'].unique(), rotation=45, ha='right')\n",
    "\n",
    "plt.xticks(rotation=45, ha='right')\n",
    "\n",
    "plt.tight_layout()\n",
    "plt.show()"
   ]
  },
  {
   "cell_type": "markdown",
   "metadata": {},
   "source": [
    "## 4. Plot the same information as above but as a bar chart."
   ]
  },
  {
   "cell_type": "code",
   "execution_count": null,
   "metadata": {},
   "outputs": [],
   "source": [
    "sales_grouped_month = data.groupby('Month')[[\"RetailSales\", \"RetailTransfers\", \"WarehouseSales\"]].mean()\n",
    "\n",
    "plt.figure(figsize=(12, 6))\n",
    "sales_grouped_month.plot(kind='bar')"
   ]
  },
  {
   "cell_type": "markdown",
   "metadata": {},
   "source": [
    "## 5. Create a multi-line chart that shows Retail Sales summed by Item Type over time (Year & Month).\n",
    "\n",
    "*Hint: There should be a line representing each Item Type.*"
   ]
  },
  {
   "cell_type": "code",
   "execution_count": null,
   "metadata": {},
   "outputs": [],
   "source": [
    "data['Month/Year_dt'] = pd.to_datetime(data['Month/Year'], format='%m/%Y')\n",
    "\n",
    "# 2. Gruppieren und aufsummieren\n",
    "sales_pivot = (\n",
    "    data\n",
    "    .groupby(['Month/Year_dt', 'ItemType'])['RetailSales']\n",
    "    .sum()\n",
    "    .unstack(fill_value=0)           # jede ItemType wird zur eigenen Spalte\n",
    "    .sort_index()                    # sicherstellen, dass die Datumsindex sortiert ist\n",
    ")\n",
    "\n",
    "# 3. Plotten\n",
    "fig, ax = plt.subplots(figsize=(12, 6))\n",
    "\n",
    "sales_pivot.plot(ax=ax, marker='o')  # Linien mit Markern\n",
    "\n",
    "# 4. Achsen beschriften\n",
    "ax.set_title('Sum of Retail Sales by Item Type Over Time')\n",
    "ax.set_xlabel('Month/Year')\n",
    "ax.set_ylabel('Total Retail Sales')\n",
    "\n",
    "# 5. X-Achse-Labels auf Month/Year formatieren\n",
    "ax.set_xticks(sales_pivot.index)  # Datumsticks an jedem Punkt\n",
    "ax.set_xticklabels(sales_pivot.index.strftime('%m/%Y'), rotation=45, ha='right')\n",
    "\n",
    "plt.tight_layout()\n",
    "plt.show()"
   ]
  },
  {
   "cell_type": "markdown",
   "metadata": {},
   "source": [
    "## 6. Plot the same information as above but as a bar chart."
   ]
  },
  {
   "cell_type": "code",
   "execution_count": null,
   "metadata": {},
   "outputs": [],
   "source": [
    "fig, ax = plt.subplots(figsize=(14, 6))\n",
    "\n",
    "# gruppierte Balken: jede ItemType pro Month/Year nebeneinander\n",
    "sales_pivot.plot(kind='bar', ax=ax)\n",
    "\n",
    "ax.set_title('Total Retail Sales by Item Type per Month/Year (Gruppiert)')\n",
    "ax.set_xlabel('Month/Year')\n",
    "ax.set_ylabel('Total Retail Sales')\n",
    "\n",
    "# X-Ticks mit deinen MM/YYYY-Labels\n",
    "ax.set_xticks(range(len(sales_pivot.index)))\n",
    "ax.set_xticklabels(sales_pivot.index.strftime('%m/%Y'), rotation=45, ha='right')\n",
    "\n",
    "plt.tight_layout()\n",
    "plt.show()"
   ]
  },
  {
   "cell_type": "markdown",
   "metadata": {},
   "source": [
    "## 7. Create a scatter plot showing the relationship between Retail Sales (x-axis) and Retail Transfers (y-axis) with the plot points color-coded according to their Item Type.\n",
    "\n",
    "*Hint: Seaborn's lmplot is the easiest way to generate the scatter plot.*"
   ]
  },
  {
   "cell_type": "code",
   "execution_count": null,
   "metadata": {},
   "outputs": [],
   "source": [
    "sns.scatterplot(\n",
    "    data=data,\n",
    "    x=\"RetailSales\",    # x-Achse: Gesamtbetrag\n",
    "    y=\"RetailTransfers\",           # y-Achse: Trinkgeld\n",
    "    hue='ItemType',         # Farbe nach Wochentag\n",
    "    sizes=(20, 200),   # Range der Punktgrößen\n",
    "    alpha=0.7          # Transparenz\n",
    ")\n",
    "\n",
    "# 3. Achsenbeschriftungen und Titel\n",
    "plt.title('Scatterplot of Retail Sales and Retail Transfers by Item Types')\n",
    "plt.xlabel('Retail Sales')\n",
    "plt.ylabel('Retail Transfers')\n",
    "\n",
    "# 4. Anzeigen\n",
    "plt.tight_layout()\n",
    "plt.show()"
   ]
  },
  {
   "cell_type": "markdown",
   "metadata": {},
   "source": [
    "## 8. Create a scatter matrix using all the numeric fields in the data set with the plot points color-coded by Item Type.\n",
    "\n",
    "*Hint: Seaborn's pairplot may be your best option here.*"
   ]
  },
  {
   "cell_type": "code",
   "execution_count": 2,
   "metadata": {},
   "outputs": [
    {
     "ename": "NameError",
     "evalue": "name 'data' is not defined",
     "output_type": "error",
     "traceback": [
      "\u001b[1;31m---------------------------------------------------------------------------\u001b[0m",
      "\u001b[1;31mNameError\u001b[0m                                 Traceback (most recent call last)",
      "Cell \u001b[1;32mIn[2], line 1\u001b[0m\n\u001b[1;32m----> 1\u001b[0m plot_df \u001b[38;5;241m=\u001b[39m \u001b[43mdata\u001b[49m[[\u001b[38;5;124m\"\u001b[39m\u001b[38;5;124mItemType\u001b[39m\u001b[38;5;124m\"\u001b[39m, \u001b[38;5;124m\"\u001b[39m\u001b[38;5;124mRetailSales\u001b[39m\u001b[38;5;124m\"\u001b[39m, \u001b[38;5;124m\"\u001b[39m\u001b[38;5;124mRetailTransfers\u001b[39m\u001b[38;5;124m\"\u001b[39m, \u001b[38;5;124m\"\u001b[39m\u001b[38;5;124mWarehouseSales\u001b[39m\u001b[38;5;124m\"\u001b[39m]]\n\u001b[0;32m      3\u001b[0m sns\u001b[38;5;241m.\u001b[39mpairplot(\n\u001b[0;32m      4\u001b[0m     data\u001b[38;5;241m=\u001b[39mplot_df,\n\u001b[0;32m      5\u001b[0m     hue\u001b[38;5;241m=\u001b[39m\u001b[38;5;124m\"\u001b[39m\u001b[38;5;124mItemType\u001b[39m\u001b[38;5;124m\"\u001b[39m,            \n\u001b[0;32m      6\u001b[0m     diag_kind\u001b[38;5;241m=\u001b[39m\u001b[38;5;124m\"\u001b[39m\u001b[38;5;124mhist\u001b[39m\u001b[38;5;124m\"\u001b[39m,          \n\u001b[0;32m      7\u001b[0m     plot_kws\u001b[38;5;241m=\u001b[39m{\u001b[38;5;124m\"\u001b[39m\u001b[38;5;124malpha\u001b[39m\u001b[38;5;124m\"\u001b[39m: \u001b[38;5;241m0.6\u001b[39m},   \n\u001b[0;32m      8\u001b[0m )\n\u001b[0;32m      9\u001b[0m plt\u001b[38;5;241m.\u001b[39msuptitle(\u001b[38;5;124m\"\u001b[39m\u001b[38;5;124mPairplot of Sales Numbers By Item Type\u001b[39m\u001b[38;5;124m\"\u001b[39m, y\u001b[38;5;241m=\u001b[39m\u001b[38;5;241m1.02\u001b[39m)\n",
      "\u001b[1;31mNameError\u001b[0m: name 'data' is not defined"
     ]
    }
   ],
   "source": [
    "plot_df = data[[\"ItemType\", \"RetailSales\", \"RetailTransfers\", \"WarehouseSales\"]]\n",
    "\n",
    "sns.pairplot(\n",
    "    data=plot_df,\n",
    "    hue=\"ItemType\",            \n",
    "    diag_kind=\"hist\",          \n",
    "    plot_kws={\"alpha\": 0.6},   \n",
    ")\n",
    "plt.suptitle(\"Pairplot of Sales Numbers By Item Type\", y=1.02)\n",
    "plt.show()"
   ]
  }
 ],
 "metadata": {
  "kernelspec": {
   "display_name": "Python 3",
   "language": "python",
   "name": "python3"
  },
  "language_info": {
   "codemirror_mode": {
    "name": "ipython",
    "version": 3
   },
   "file_extension": ".py",
   "mimetype": "text/x-python",
   "name": "python",
   "nbconvert_exporter": "python",
   "pygments_lexer": "ipython3",
   "version": "3.13.1"
  }
 },
 "nbformat": 4,
 "nbformat_minor": 2
}
